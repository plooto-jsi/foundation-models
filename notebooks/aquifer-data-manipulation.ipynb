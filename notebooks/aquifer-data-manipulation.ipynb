{
 "cells": [
  {
   "cell_type": "markdown",
   "metadata": {},
   "source": [
    "# Aquifer data"
   ]
  },
  {
   "cell_type": "markdown",
   "metadata": {},
   "source": [
    "## Imports"
   ]
  },
  {
   "cell_type": "code",
   "execution_count": null,
   "metadata": {},
   "outputs": [],
   "source": [
    "#pip install geopy pandas sqlite3 folium"
   ]
  },
  {
   "cell_type": "code",
   "execution_count": null,
   "metadata": {},
   "outputs": [],
   "source": [
    "# Data manipulation\n",
    "import pandas as pd\n",
    "import sqlite3\n",
    "\n",
    "# Geographical data plotting\n",
    "import folium\n",
    "from folium.map import Popup\n",
    "from geopy.geocoders import Nominatim\n",
    "from geopy.exc import GeocoderTimedOut\n",
    "import time"
   ]
  },
  {
   "cell_type": "markdown",
   "metadata": {},
   "source": [
    "## Loading the database"
   ]
  },
  {
   "cell_type": "code",
   "execution_count": null,
   "metadata": {},
   "outputs": [],
   "source": [
    "# Connect to the SQLite database\n",
    "conn = sqlite3.connect('../data/external/data.db')\n",
    "\n",
    "# Get a cursor object\n",
    "cursor = conn.cursor()\n",
    "\n",
    "# List all of the tables\n",
    "tables = cursor.execute(\"SELECT name FROM sqlite_master WHERE type='table';\").fetchall()\n",
    "table_names = [table[0] for table in tables]\n",
    "print(\"Tables in the database:\", table_names)\n",
    "\n",
    "# Load data from each table into a pandas DataFrame\n",
    "dataframes = {table: pd.read_sql_query(f\"SELECT * FROM {table}\", conn) for table in table_names}\n",
    "\n",
    "# Name the datasets that we are going to work with\n",
    "aquifer_stations = dataframes[table_names[4]]\n",
    "aquifer_measurements = dataframes[table_names[5]]\n",
    "weather_locations = dataframes[table_names[6]]\n",
    "weather = dataframes[table_names[7]]\n",
    "\n",
    "print(\"aquifer stations:\")\n",
    "print(aquifer_stations.head())\n",
    "print(\"aquifer measurements:\")\n",
    "print(aquifer_measurements.head())\n",
    "print(\"weather stations:\")\n",
    "print(weather_locations.head())\n",
    "print(\"Weather measurements:\")\n",
    "print(weather.head())\n"
   ]
  },
  {
   "cell_type": "markdown",
   "metadata": {},
   "source": [
    "## Data manipulation"
   ]
  },
  {
   "cell_type": "markdown",
   "metadata": {},
   "source": [
    "### Aquifer data"
   ]
  },
  {
   "cell_type": "code",
   "execution_count": null,
   "metadata": {},
   "outputs": [],
   "source": [
    "# Convert 'date' column to datetime\n",
    "aquifer_measurements['date'] = pd.to_datetime(aquifer_measurements['date'])\n",
    "\n",
    "# Filter data for years 2010 to 2017\n",
    "aquifer_measurements = aquifer_measurements[aquifer_measurements['date'].dt.year.between(2010, 2017)]\n",
    "\n",
    "# Group by station_id and count the number of unique years\n",
    "station_years_counts = aquifer_measurements.groupby('station_id')['date'].apply(lambda x: x.dt.year.nunique())\n",
    "\n",
    "# Filter station_ids that have instances in all years from 2010 to 2017\n",
    "station_ids_all_years = station_years_counts[station_years_counts == 8].index.tolist()\n",
    "\n",
    "# Filter aquifer_measurements to include only stations with instances in all years from 2010 to 2017\n",
    "aquifer_measurements = aquifer_measurements[aquifer_measurements['station_id'].isin(station_ids_all_years)]\n",
    "\n",
    "# Display the filtered DataFrame\n",
    "print(aquifer_measurements)\n",
    "\n",
    "# Save the dataframe to a file\n",
    "aquifer_measurements.to_csv(\"aquifer_measurements.txt\", index=False)\n",
    "\n",
    "# Filter the locations file, so it only includes the remaining stations\n",
    "aquifer_stations = aquifer_stations[aquifer_stations['id'].isin(station_ids_all_years)]"
   ]
  },
  {
   "cell_type": "code",
   "execution_count": null,
   "metadata": {},
   "outputs": [],
   "source": [
    "# Get the names of all of the aquifer stations that are in final selction\n",
    "aquifer_stations.to_csv(\"aquifer_stations.csv\", index=False)\n",
    "\n",
    "# Print filtered station ids\n",
    "print(len(station_ids_all_years))"
   ]
  },
  {
   "cell_type": "markdown",
   "metadata": {},
   "source": [
    "### Weather data"
   ]
  },
  {
   "cell_type": "code",
   "execution_count": null,
   "metadata": {},
   "outputs": [],
   "source": [
    "# Convert 'time' column from Unix timestamp to datetime\n",
    "weather['time'] = pd.to_datetime(weather['time'], unit='s')\n",
    "\n",
    "# Convert 'day_time' from seconds past midnight to HH:MM:SS format\n",
    "weather['day_time'] = pd.to_timedelta(weather['day_time'], unit='s')\n",
    "\n",
    "# Group by location_id and count the number of unique years\n",
    "location_years_counts = weather.groupby('location_id')['time'].apply(lambda x: x.dt.year.nunique())\n",
    "\n",
    "# Filter location_ids that have instances in all years from 2010 to 2017\n",
    "location_ids_all_years = location_years_counts[location_years_counts == 8].index.tolist()\n",
    "\n",
    "# Filter weather to include only location with instances in all years from 2010 to 2017\n",
    "weather = weather[weather['location_id'].isin(location_ids_all_years)]\n",
    "\n",
    "# Save as a .csv file\n",
    "weather.to_csv(\"weather.csv\", index=False)\n",
    "print(weather)\n",
    "\n",
    "# Fetch all of the location_id's\n",
    "location_ids = weather['location_id'].unique()\n",
    "\n",
    "print(\"Locations with instances all years from 2010 to 2017:\")\n",
    "print(len(location_ids))\n",
    "\n",
    "# Filter the locations that are in the final locations\n",
    "weather_locations = weather_locations[weather_locations['id'].isin(location_ids_all_years)]"
   ]
  },
  {
   "cell_type": "markdown",
   "metadata": {},
   "source": [
    "### Splitting the dataframes based on the stations"
   ]
  },
  {
   "cell_type": "code",
   "execution_count": null,
   "metadata": {},
   "outputs": [],
   "source": [
    "# Make a dictionary with dataframes for specific aquifer stations\n",
    "aquifer_measurements_by_stations = {aquifer: data for aquifer, data in aquifer_measurements.groupby('station_id')}\n",
    "\n",
    "# Make a dictionary with dataframes for specific weather locations\n",
    "weather_by_locatons = {location: data for location, data in weather.groupby('location_id')}"
   ]
  },
  {
   "cell_type": "markdown",
   "metadata": {},
   "source": [
    "### Completing the aquifer_stations dataset"
   ]
  },
  {
   "cell_type": "code",
   "execution_count": null,
   "metadata": {},
   "outputs": [],
   "source": [
    "# Initialize geocoder\n",
    "'''geolocator = Nominatim(user_agent=\"myGeocoder\")\n",
    "\n",
    "# Function to geocode a place name\n",
    "def geocode_place(place):\n",
    "    try:\n",
    "        location = geolocator.geocode(place)\n",
    "        if location:\n",
    "            return location.latitude, location.longitude\n",
    "        else:\n",
    "            return None, None\n",
    "    except GeocoderTimedOut:\n",
    "        return None, None\n",
    "print(geocode_place(\"Miren\"))\n",
    "# Geocode each station name\n",
    "aquifer_stations['latitude'], aquifer_stations['longitude'] = zip(*aquifer_stations['name'].apply(geocode_place))'''"
   ]
  },
  {
   "cell_type": "markdown",
   "metadata": {},
   "source": [
    "### Plotting the aquifer stations and weather locations on a map"
   ]
  },
  {
   "cell_type": "code",
   "execution_count": null,
   "metadata": {},
   "outputs": [],
   "source": [
    "#Initialize a map centered on Slovenia\n",
    "slovenia_map = folium.Map(location=[46.151241, 14.995463], zoom_start=8)\n",
    "\n",
    "# Add weather locations to the map (red colour)\n",
    "for _, row in weather_locations.iterrows():\n",
    "    folium.Marker(\n",
    "        location=[row['lat'], row['lng']],\n",
    "        popup=row['id'],\n",
    "        icon=folium.Icon(color='red')\n",
    "    ).add_to(slovenia_map)\n",
    "\n",
    "# Add aquifer stations to the map (blue colour)\n",
    "'''for _, row in aquifer_stations.iterrows():\n",
    "    folium.Marker(\n",
    "        location=[row['lat'], row['lng']],\n",
    "        popup=row['id'],\n",
    "        icon=folium.Icon(color='red')\n",
    "    ).add_to(slovenia_map)'''\n",
    "\n",
    "\n",
    "# Save the map to an HTML file\n",
    "slovenia_map.save('slovenia_map.html')"
   ]
  },
  {
   "cell_type": "markdown",
   "metadata": {},
   "source": [
    "### Combining the weather and aquifer data"
   ]
  },
  {
   "cell_type": "code",
   "execution_count": null,
   "metadata": {},
   "outputs": [],
   "source": []
  }
 ],
 "metadata": {
  "kernelspec": {
   "display_name": "Python 3",
   "language": "python",
   "name": "python3"
  },
  "language_info": {
   "codemirror_mode": {
    "name": "ipython",
    "version": 3
   },
   "file_extension": ".py",
   "mimetype": "text/x-python",
   "name": "python",
   "nbconvert_exporter": "python",
   "pygments_lexer": "ipython3",
   "version": "3.12.0"
  }
 },
 "nbformat": 4,
 "nbformat_minor": 2
}
